{
 "cells": [
  {
   "cell_type": "code",
   "execution_count": 2,
   "metadata": {},
   "outputs": [],
   "source": [
    "# import sweetviz as sv\n",
    "from ydata_profiling import ProfileReport\n",
    "import pandas as pd"
   ]
  },
  {
   "cell_type": "code",
   "execution_count": 3,
   "metadata": {},
   "outputs": [],
   "source": [
    "train = pd.read_csv('../data/raw/train.csv')\n",
    "test = pd.read_csv('../data/raw/test.csv')\n",
    "sample = pd.read_csv('../data/raw/sample_submission.csv')"
   ]
  },
  {
   "cell_type": "code",
   "execution_count": 4,
   "metadata": {},
   "outputs": [
    {
     "name": "stderr",
     "output_type": "stream",
     "text": [
      "Summarize dataset: 100%|██████████| 16/16 [00:01<00:00, 12.86it/s, Completed]                \n",
      "Generate report structure: 100%|██████████| 1/1 [00:02<00:00,  2.46s/it]\n",
      "Render HTML: 100%|██████████| 1/1 [00:00<00:00,  1.37it/s]\n",
      "Export report to file: 100%|██████████| 1/1 [00:00<00:00, 329.17it/s]\n",
      "Summarize dataset: 100%|██████████| 15/15 [00:00<00:00, 18.90it/s, Completed]                \n",
      "Generate report structure: 100%|██████████| 1/1 [00:02<00:00,  2.07s/it]\n",
      "Render HTML: 100%|██████████| 1/1 [00:00<00:00,  4.28it/s]\n",
      "Export report to file: 100%|██████████| 1/1 [00:00<00:00, 317.10it/s]\n",
      "Summarize dataset: 100%|██████████| 12/12 [00:00<00:00, 34.62it/s, Completed]                \n",
      "Generate report structure: 100%|██████████| 1/1 [00:00<00:00,  1.66it/s]\n",
      "Render HTML: 100%|██████████| 1/1 [00:00<00:00,  8.05it/s]\n",
      "Export report to file: 100%|██████████| 1/1 [00:00<00:00, 658.65it/s]\n"
     ]
    }
   ],
   "source": [
    "train_profile = ProfileReport(train, explorative=True)\n",
    "train_profile.to_file('train.html')\n",
    "\n",
    "test_profile = ProfileReport(test, explorative=True)\n",
    "test_profile.to_file('test.html')\n",
    "\n",
    "sample_profile = ProfileReport(sample, explorative=True)\n",
    "sample_profile.to_file('sample.html')"
   ]
  },
  {
   "cell_type": "code",
   "execution_count": 5,
   "metadata": {},
   "outputs": [],
   "source": [
    "# TBD issue with iteritems deprication\n",
    "# sv_train = sv.analyze(train)\n",
    "# sv_test = sv.analyze(test)\n",
    "# sv_sample = sv.analyze(sample)\n",
    "\n",
    "# sv_train.show_html('train.html')\n",
    "# sv_test.show_html('test.html')\n",
    "# sv_sample.show_html('sample.html')\n"
   ]
  },
  {
   "cell_type": "markdown",
   "metadata": {},
   "source": []
  }
 ],
 "metadata": {
  "kernelspec": {
   "display_name": "kaggle-disaster-tweets",
   "language": "python",
   "name": "python3"
  },
  "language_info": {
   "codemirror_mode": {
    "name": "ipython",
    "version": 3
   },
   "file_extension": ".py",
   "mimetype": "text/x-python",
   "name": "python",
   "nbconvert_exporter": "python",
   "pygments_lexer": "ipython3",
   "version": "3.9.17"
  },
  "orig_nbformat": 4
 },
 "nbformat": 4,
 "nbformat_minor": 2
}
